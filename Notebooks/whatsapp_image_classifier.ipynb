{
  "nbformat": 4,
  "nbformat_minor": 0,
  "metadata": {
    "colab": {
      "name": "image_classifier.ipynb",
      "provenance": [],
      "collapsed_sections": []
    },
    "kernelspec": {
      "name": "python3",
      "display_name": "Python 3"
    },
    "accelerator": "GPU"
  },
  "cells": [
    {
      "cell_type": "code",
      "metadata": {
        "id": "1n97buxn35NI",
        "colab_type": "code",
        "colab": {}
      },
      "source": [
        "from keras.applications.vgg19 import VGG19,preprocess_input\n",
        "from keras.preprocessing.image import ImageDataGenerator\n",
        "from keras.optimizers import Adam,SGD\n",
        "from keras.models import Sequential, Model \n",
        "from keras.layers import Dropout, Flatten, Dense, GlobalAveragePooling2D\n",
        "from keras import backend as k \n",
        "from keras.callbacks import ModelCheckpoint, LearningRateScheduler, TensorBoard, EarlyStopping"
      ],
      "execution_count": 0,
      "outputs": []
    },
    {
      "cell_type": "code",
      "metadata": {
        "id": "bNndsAOc53Vc",
        "colab_type": "code",
        "outputId": "17c6cbad-e780-40ee-e948-3682b1a26744",
        "colab": {
          "base_uri": "https://localhost:8080/",
          "height": 35
        }
      },
      "source": [
        "from google.colab import drive\n",
        "drive.mount('/content/drive')"
      ],
      "execution_count": 0,
      "outputs": [
        {
          "output_type": "stream",
          "text": [
            "Drive already mounted at /content/drive; to attempt to forcibly remount, call drive.mount(\"/content/drive\", force_remount=True).\n"
          ],
          "name": "stdout"
        }
      ]
    },
    {
      "cell_type": "code",
      "metadata": {
        "id": "CRLX9Pk756Ne",
        "colab_type": "code",
        "colab": {}
      },
      "source": [
        "img_width, img_height = 256, 256\n",
        "train_dir = '/content/drive/My Drive/mobile_gallery_image_classification/train'\n",
        "val_dir = '/content/drive/My Drive/mobile_gallery_image_classification/validation'\n",
        "nb_train_samples = 1735\n",
        "nb_validation_samples = 639\n",
        "batch_size = 16\n",
        "epochs = 20\n",
        "model = VGG19(weights = \"imagenet\", include_top=False, input_shape = (img_width, img_height, 3))\n"
      ],
      "execution_count": 0,
      "outputs": []
    },
    {
      "cell_type": "code",
      "metadata": {
        "id": "NuUd4atk6NoA",
        "colab_type": "code",
        "colab": {}
      },
      "source": [
        "train_datagen = ImageDataGenerator(\n",
        "rescale = 1./255,\n",
        "horizontal_flip = True,\n",
        "fill_mode = \"nearest\",\n",
        "zoom_range = 0.3,\n",
        "width_shift_range = 0.3,\n",
        "height_shift_range=0.3,\n",
        "rotation_range=30)\n",
        "\n",
        "valid_datagen = ImageDataGenerator(\n",
        "rescale = 1./255,\n",
        "horizontal_flip = True,\n",
        "fill_mode = \"nearest\",\n",
        "zoom_range = 0.3,\n",
        "width_shift_range = 0.3,\n",
        "height_shift_range=0.3,\n",
        "rotation_range=30)"
      ],
      "execution_count": 0,
      "outputs": []
    },
    {
      "cell_type": "code",
      "metadata": {
        "id": "20hCqANp7ClM",
        "colab_type": "code",
        "outputId": "2f47ef73-3190-4a54-c43b-b4bbce40eeb2",
        "colab": {
          "base_uri": "https://localhost:8080/",
          "height": 54
        }
      },
      "source": [
        "train_generator = train_datagen.flow_from_directory(train_dir,target_size=(img_height,img_width),batch_size=batch_size,seed=42)\n",
        "valid_generator = valid_datagen.flow_from_directory(val_dir,target_size=(img_height,img_width),batch_size=batch_size,seed=42)"
      ],
      "execution_count": 0,
      "outputs": [
        {
          "output_type": "stream",
          "text": [
            "Found 1735 images belonging to 10 classes.\n",
            "Found 639 images belonging to 10 classes.\n"
          ],
          "name": "stdout"
        }
      ]
    },
    {
      "cell_type": "code",
      "metadata": {
        "id": "OzdBrWVW8ZVN",
        "colab_type": "code",
        "outputId": "2a44ba37-b71b-47aa-dcae-501015b238c6",
        "colab": {
          "base_uri": "https://localhost:8080/",
          "height": 129
        }
      },
      "source": [
        "def build_finetune_model(base_model, num_classes):\n",
        "    \n",
        "    for layer in model.layers[:5]:\n",
        "      layer.trainable = False\n",
        "\n",
        "    x = model.output\n",
        "    x = Flatten()(x)\n",
        "    x = Dense(1024,activation='relu')(x)\n",
        "    x = Dropout(0.5)(x)\n",
        "    x = Dense(1024,activation='relu')(x)\n",
        "    predictions = Dense(num_classes,activation='softmax')(x)\n",
        "    \n",
        "    finetune_model = Model(inputs=model.input, outputs=predictions)\n",
        "\n",
        "    return finetune_model\n",
        "\n",
        "class_list = [\"Food\", \"Gods\", \"Greetings\",\"Group_pics\",\"Memes\",\"Notes\",\"Selfies\",\"Telugu_quotes\",\"Temples\",\"Whatsapp_Screeshots\"]\n",
        "\n",
        "\n",
        "finetune_model = build_finetune_model(model,num_classes=len(class_list))"
      ],
      "execution_count": 0,
      "outputs": [
        {
          "output_type": "stream",
          "text": [
            "WARNING:tensorflow:From /usr/local/lib/python3.6/dist-packages/keras/backend/tensorflow_backend.py:148: The name tf.placeholder_with_default is deprecated. Please use tf.compat.v1.placeholder_with_default instead.\n",
            "\n",
            "WARNING:tensorflow:From /usr/local/lib/python3.6/dist-packages/keras/backend/tensorflow_backend.py:3733: calling dropout (from tensorflow.python.ops.nn_ops) with keep_prob is deprecated and will be removed in a future version.\n",
            "Instructions for updating:\n",
            "Please use `rate` instead of `keep_prob`. Rate should be set to `rate = 1 - keep_prob`.\n"
          ],
          "name": "stdout"
        }
      ]
    },
    {
      "cell_type": "code",
      "metadata": {
        "id": "mkvoy96S8ple",
        "colab_type": "code",
        "outputId": "f492c47a-1785-491c-9694-2ea75171c8a9",
        "colab": {
          "base_uri": "https://localhost:8080/",
          "height": 1000
        }
      },
      "source": [
        "\n",
        "adam = Adam(lr=0.00001)\n",
        "finetune_model.compile(adam, loss='categorical_crossentropy', metrics=['accuracy'])\n",
        "\n",
        "filepath=\"/content/drive/My Drive/checkpoints/\" + \"VGG19\" + \"_model_weights.h5\"\n",
        "checkpoint = ModelCheckpoint(filepath, monitor=[\"acc\"], verbose=1, mode='max')\n",
        "early = EarlyStopping(monitor='val_acc', min_delta=0, patience=10, verbose=1, mode='auto')\n",
        "callbacks_list = [checkpoint,early]\n",
        "\n",
        "history = finetune_model.fit_generator(train_generator, epochs=epochs, \n",
        "                                       steps_per_epoch=nb_train_samples // batch_size, \n",
        "                                       validation_data = valid_generator,validation_steps=nb_validation_samples//batch_size,\n",
        "                                       shuffle=True, callbacks=callbacks_list)"
      ],
      "execution_count": 0,
      "outputs": [
        {
          "output_type": "stream",
          "text": [
            "WARNING:tensorflow:From /usr/local/lib/python3.6/dist-packages/keras/optimizers.py:793: The name tf.train.Optimizer is deprecated. Please use tf.compat.v1.train.Optimizer instead.\n",
            "\n",
            "WARNING:tensorflow:From /usr/local/lib/python3.6/dist-packages/keras/backend/tensorflow_backend.py:3576: The name tf.log is deprecated. Please use tf.math.log instead.\n",
            "\n",
            "WARNING:tensorflow:From /usr/local/lib/python3.6/dist-packages/tensorflow_core/python/ops/math_grad.py:1424: where (from tensorflow.python.ops.array_ops) is deprecated and will be removed in a future version.\n",
            "Instructions for updating:\n",
            "Use tf.where in 2.0, which has the same broadcast rule as np.where\n",
            "WARNING:tensorflow:From /usr/local/lib/python3.6/dist-packages/keras/backend/tensorflow_backend.py:1033: The name tf.assign_add is deprecated. Please use tf.compat.v1.assign_add instead.\n",
            "\n",
            "WARNING:tensorflow:From /usr/local/lib/python3.6/dist-packages/keras/backend/tensorflow_backend.py:1020: The name tf.assign is deprecated. Please use tf.compat.v1.assign instead.\n",
            "\n",
            "Epoch 1/20\n",
            "108/108 [==============================] - 48s 440ms/step - loss: 1.7631 - acc: 0.3682 - val_loss: 1.0723 - val_acc: 0.6458\n",
            "\n",
            "Epoch 00001: saving model to /content/drive/My Drive/checkpoints/VGG19_model_weights.h5\n",
            "Epoch 2/20\n",
            "108/108 [==============================] - 47s 435ms/step - loss: 0.8246 - acc: 0.7222 - val_loss: 0.7036 - val_acc: 0.7833\n",
            "\n",
            "Epoch 00002: saving model to /content/drive/My Drive/checkpoints/VGG19_model_weights.h5\n",
            "Epoch 3/20\n",
            "108/108 [==============================] - 47s 431ms/step - loss: 0.6046 - acc: 0.8106 - val_loss: 0.4792 - val_acc: 0.8411\n",
            "\n",
            "Epoch 00003: saving model to /content/drive/My Drive/checkpoints/VGG19_model_weights.h5\n",
            "Epoch 4/20\n",
            "108/108 [==============================] - 46s 424ms/step - loss: 0.5218 - acc: 0.8272 - val_loss: 0.6575 - val_acc: 0.7849\n",
            "\n",
            "Epoch 00004: saving model to /content/drive/My Drive/checkpoints/VGG19_model_weights.h5\n",
            "Epoch 5/20\n",
            "108/108 [==============================] - 46s 424ms/step - loss: 0.4209 - acc: 0.8628 - val_loss: 0.5060 - val_acc: 0.8218\n",
            "\n",
            "Epoch 00005: saving model to /content/drive/My Drive/checkpoints/VGG19_model_weights.h5\n",
            "Epoch 6/20\n",
            "108/108 [==============================] - 46s 428ms/step - loss: 0.3678 - acc: 0.8773 - val_loss: 0.5656 - val_acc: 0.8266\n",
            "\n",
            "Epoch 00006: saving model to /content/drive/My Drive/checkpoints/VGG19_model_weights.h5\n",
            "Epoch 7/20\n",
            "108/108 [==============================] - 46s 425ms/step - loss: 0.3262 - acc: 0.8974 - val_loss: 0.5421 - val_acc: 0.8331\n",
            "\n",
            "Epoch 00007: saving model to /content/drive/My Drive/checkpoints/VGG19_model_weights.h5\n",
            "Epoch 8/20\n",
            "108/108 [==============================] - 45s 419ms/step - loss: 0.3139 - acc: 0.8976 - val_loss: 0.5686 - val_acc: 0.8283\n",
            "\n",
            "Epoch 00008: saving model to /content/drive/My Drive/checkpoints/VGG19_model_weights.h5\n",
            "Epoch 9/20\n",
            "108/108 [==============================] - 45s 413ms/step - loss: 0.2960 - acc: 0.8994 - val_loss: 0.5245 - val_acc: 0.8427\n",
            "\n",
            "Epoch 00009: saving model to /content/drive/My Drive/checkpoints/VGG19_model_weights.h5\n",
            "Epoch 10/20\n",
            "108/108 [==============================] - 45s 419ms/step - loss: 0.2608 - acc: 0.9158 - val_loss: 0.6027 - val_acc: 0.8266\n",
            "\n",
            "Epoch 00010: saving model to /content/drive/My Drive/checkpoints/VGG19_model_weights.h5\n",
            "Epoch 11/20\n",
            "108/108 [==============================] - 46s 423ms/step - loss: 0.2500 - acc: 0.9167 - val_loss: 0.4190 - val_acc: 0.8604\n",
            "\n",
            "Epoch 00011: saving model to /content/drive/My Drive/checkpoints/VGG19_model_weights.h5\n",
            "Epoch 12/20\n",
            "108/108 [==============================] - 46s 422ms/step - loss: 0.2169 - acc: 0.9300 - val_loss: 0.6517 - val_acc: 0.8074\n",
            "\n",
            "Epoch 00012: saving model to /content/drive/My Drive/checkpoints/VGG19_model_weights.h5\n",
            "Epoch 13/20\n",
            "108/108 [==============================] - 46s 423ms/step - loss: 0.2109 - acc: 0.9306 - val_loss: 0.4520 - val_acc: 0.8620\n",
            "\n",
            "Epoch 00013: saving model to /content/drive/My Drive/checkpoints/VGG19_model_weights.h5\n",
            "Epoch 14/20\n",
            "108/108 [==============================] - 45s 417ms/step - loss: 0.1925 - acc: 0.9350 - val_loss: 1.0640 - val_acc: 0.7512\n",
            "\n",
            "Epoch 00014: saving model to /content/drive/My Drive/checkpoints/VGG19_model_weights.h5\n",
            "Epoch 15/20\n",
            "108/108 [==============================] - 45s 414ms/step - loss: 0.1943 - acc: 0.9340 - val_loss: 1.1502 - val_acc: 0.7560\n",
            "\n",
            "Epoch 00015: saving model to /content/drive/My Drive/checkpoints/VGG19_model_weights.h5\n",
            "Epoch 16/20\n",
            "108/108 [==============================] - 44s 405ms/step - loss: 0.2107 - acc: 0.9311 - val_loss: 0.6545 - val_acc: 0.8074\n",
            "\n",
            "Epoch 00016: saving model to /content/drive/My Drive/checkpoints/VGG19_model_weights.h5\n",
            "Epoch 17/20\n",
            "108/108 [==============================] - 44s 405ms/step - loss: 0.1706 - acc: 0.9472 - val_loss: 0.8265 - val_acc: 0.7994\n",
            "\n",
            "Epoch 00017: saving model to /content/drive/My Drive/checkpoints/VGG19_model_weights.h5\n",
            "Epoch 18/20\n",
            "108/108 [==============================] - 44s 408ms/step - loss: 0.1708 - acc: 0.9444 - val_loss: 0.6154 - val_acc: 0.8283\n",
            "\n",
            "Epoch 00018: saving model to /content/drive/My Drive/checkpoints/VGG19_model_weights.h5\n",
            "Epoch 19/20\n",
            "108/108 [==============================] - 44s 405ms/step - loss: 0.1744 - acc: 0.9427 - val_loss: 0.4768 - val_acc: 0.8331\n",
            "\n",
            "Epoch 00019: saving model to /content/drive/My Drive/checkpoints/VGG19_model_weights.h5\n",
            "Epoch 20/20\n",
            "108/108 [==============================] - 44s 405ms/step - loss: 0.1667 - acc: 0.9508 - val_loss: 0.8279 - val_acc: 0.7865\n",
            "\n",
            "Epoch 00020: saving model to /content/drive/My Drive/checkpoints/VGG19_model_weights.h5\n"
          ],
          "name": "stdout"
        }
      ]
    },
    {
      "cell_type": "code",
      "metadata": {
        "id": "UZQ55ldr9n8o",
        "colab_type": "code",
        "outputId": "fb90af2d-a9e6-4335-9c1d-d290f65a350f",
        "colab": {
          "base_uri": "https://localhost:8080/",
          "height": 299
        }
      },
      "source": [
        "import matplotlib.pyplot as plt\n",
        "\n",
        "def plot_training(history):\n",
        "    acc = history.history['acc']\n",
        "    val_acc = history.history['val_acc']\n",
        "    loss = history.history['loss']\n",
        "    val_loss = history.history['val_loss']\n",
        "    epochs = range(len(acc))\n",
        "\n",
        "    plt.plot(epochs, acc, 'r.')\n",
        "    plt.plot(epochs, val_acc, 'r')\n",
        "    plt.title('Training and validation accuracy')\n",
        "\n",
        "    # plt.figure()\n",
        "    # plt.plot(epochs, loss, 'r.')\n",
        "    # plt.plot(epochs, val_loss, 'r-')\n",
        "    # plt.title('Training and validation loss')\n",
        "    plt.show()\n",
        "\n",
        "    plt.savefig('acc_vs_epochs.png')\n",
        "\n",
        "plot_training(history)"
      ],
      "execution_count": 0,
      "outputs": [
        {
          "output_type": "display_data",
          "data": {
            "image/png": "[encoded data removed]",
            "text/plain": [
              "<Figure size 432x288 with 1 Axes>"
            ]
          },
          "metadata": {
            "tags": []
          }
        },
        {
          "output_type": "display_data",
          "data": {
            "text/plain": [
              "<Figure size 432x288 with 0 Axes>"
            ]
          },
          "metadata": {
            "tags": []
          }
        }
      ]
    },
    {
      "cell_type": "code",
      "metadata": {
        "id": "slTYNO9QHNFH",
        "colab_type": "code",
        "colab": {}
      },
      "source": [
        "import cv2\n",
        "import numpy as np\n",
        "import os\n"
      ],
      "execution_count": 0,
      "outputs": []
    },
    {
      "cell_type": "code",
      "metadata": {
        "id": "kgarySDWHSp9",
        "colab_type": "code",
        "colab": {}
      },
      "source": [
        "def predict(image):\n",
        "    class_list = [\"Food\", \"Gods\", \"Greetings\",\"Group_pics\",\"Memes\",\"Notes\",\"Selfies\",\"Telugu_quotes\",\"Temples\",\"Whatsapp_Screeshots\"]\n",
        "    im = cv2.imread(image)\n",
        "    im = cv2.resize(cv2.cvtColor(im, cv2.COLOR_BGR2RGB), (256, 256)).astype(np.float32) / 255.0\n",
        "    im = np.expand_dims(im, axis =0)\n",
        "    pred = finetune_model.predict(im)\n",
        "    index = np.argmax(pred)\n",
        "\n",
        "    return class_list[index]\n",
        "\n",
        "    #return img.shape"
      ],
      "execution_count": 0,
      "outputs": []
    },
    {
      "cell_type": "code",
      "metadata": {
        "id": "6rANM1A2Je-8",
        "colab_type": "code",
        "outputId": "2b83e778-45cb-46de-fbbd-dd576cc37c39",
        "colab": {
          "base_uri": "https://localhost:8080/",
          "height": 146
        }
      },
      "source": [
        "img_dir = '/content/drive/My Drive/mobile_gallery_image_classification/test'\n",
        "for img in os.listdir(img_dir):\n",
        "    print(img,end=\" \")\n",
        "    print(predict(os.path.join(img_dir,img)))"
      ],
      "execution_count": 0,
      "outputs": [
        {
          "output_type": "stream",
          "text": [
            "00000025.jpg Group_pics\n",
            "food.jpg Food\n",
            "greetings.jpg Greetings\n",
            "god.jpg Gods\n",
            "quote.jpg Telugu_quotes\n",
            "temple.jpg Temples\n",
            "notes.jpg Notes\n"
          ],
          "name": "stdout"
        }
      ]
    },
    {
      "cell_type": "code",
      "metadata": {
        "id": "TmslCYaDhCoT",
        "colab_type": "code",
        "colab": {}
      },
      "source": [
        ""
      ],
      "execution_count": 0,
      "outputs": []
    },
    {
      "cell_type": "code",
      "metadata": {
        "id": "WJ31p2TahNen",
        "colab_type": "code",
        "colab": {}
      },
      "source": [
        ""
      ],
      "execution_count": 0,
      "outputs": []
    }
  ]
}